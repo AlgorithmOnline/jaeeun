{
 "cells": [
  {
   "cell_type": "code",
   "execution_count": 9,
   "metadata": {},
   "outputs": [
    {
     "name": "stdout",
     "output_type": "stream",
     "text": [
      "5\n",
      "55 185\n",
      "58 183\n",
      "88 186\n",
      "60 175\n",
      "46 155\n"
     ]
    }
   ],
   "source": []
  },
  {
   "cell_type": "code",
   "execution_count": 22,
   "metadata": {},
   "outputs": [
    {
     "data": {
      "text/plain": [
       "[[88, 2], [60, 3], [58, 1], [55, 0], [46, 4]]"
      ]
     },
     "execution_count": 22,
     "metadata": {},
     "output_type": "execute_result"
    }
   ],
   "source": [
    "\n",
    "maps_key"
   ]
  },
  {
   "cell_type": "code",
   "execution_count": 23,
   "metadata": {},
   "outputs": [
    {
     "data": {
      "text/plain": [
       "[[186, 2], [185, 0], [183, 1], [175, 3], [155, 4]]"
      ]
     },
     "execution_count": 23,
     "metadata": {},
     "output_type": "execute_result"
    }
   ],
   "source": [
    "\n",
    "maps_weight"
   ]
  },
  {
   "cell_type": "code",
   "execution_count": 29,
   "metadata": {},
   "outputs": [
    {
     "name": "stdout",
     "output_type": "stream",
     "text": [
      "2 2 1 2 5 "
     ]
    }
   ],
   "source": [
    "\n",
    "A = int(input())\n",
    "maps_key = []\n",
    "maps_weight = []\n",
    "for  i in range(A):\n",
    "    a=list(map(int,input().split(\" \")))\n",
    "    maps_key.append([a[0],i])\n",
    "    maps_weight.append([a[1],i])\n",
    "\n",
    "    \n",
    "\n",
    "\n",
    "maps_key.sort(reverse=True)\n",
    "maps_weight.sort(reverse=True)\n",
    "ans=[]\n",
    "suni=1\n",
    "muc = 2000\n",
    "flag = False\n",
    "for i in range(len(maps_key)):\n",
    "    if not flag:\n",
    "        if maps_key[i][1] == maps_weight[i][1]:\n",
    "            ans.append([maps_key[i][1],suni])\n",
    "            suni  = len(ans)+1\n",
    "        else:\n",
    "            muc=maps_weight[i][1]\n",
    "            flag = True\n",
    "            ans.append([maps_key[i][1],suni])\n",
    "    else:\n",
    "        if maps_key[i][1] == muc:\n",
    "            flag=False\n",
    "            ans.append([maps_key[i][1],suni])\n",
    "            suni  = len(ans)+1\n",
    "        else:\n",
    "            ans.append([maps_key[i][1],suni])\n",
    "    \n",
    "ans.sort()\n",
    "for a in ans:\n",
    "    print(a[1], end =\" \")"
   ]
  },
  {
   "cell_type": "code",
   "execution_count": null,
   "metadata": {},
   "outputs": [],
   "source": []
  }
 ],
 "metadata": {
  "kernelspec": {
   "display_name": "Python 3.6.6 64-bit",
   "language": "python",
   "name": "python36664bit7ec34e2da963468c97ed2630e1bf29cc"
  },
  "language_info": {
   "codemirror_mode": {
    "name": "ipython",
    "version": 3
   },
   "file_extension": ".py",
   "mimetype": "text/x-python",
   "name": "python",
   "nbconvert_exporter": "python",
   "pygments_lexer": "ipython3",
   "version": "3.6.6"
  }
 },
 "nbformat": 4,
 "nbformat_minor": 4
}
