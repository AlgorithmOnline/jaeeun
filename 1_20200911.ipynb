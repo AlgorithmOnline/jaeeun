{
 "cells": [
  {
   "cell_type": "code",
   "execution_count": null,
   "metadata": {},
   "outputs": [],
   "source": [
    "for k in range(1,11):\n",
    "    test_case_num = int(input())\n",
    "    front =[0,0]\n",
    "    answer =0\n",
    "    test_list =list(map(int, input().split())) \n",
    "    back =[0,0]\n",
    "    total =front + test_list +back\n",
    "    for i in range(2,test_case_num+2):\n",
    "        temp = total[i-2:i+3][:]\n",
    "        if max(temp) == total[i]:\n",
    "            top = total[i]\n",
    "            temp=temp[0:2]+temp[3:]\n",
    "            answer+=(top - max(temp))\n",
    " \n",
    "    print(\"#\"+str(k)+\" \"+str(answer))"
   ]
  }
 ],
 "metadata": {
  "kernelspec": {
   "display_name": "Python 3.6.6 64-bit",
   "language": "python",
   "name": "python36664bit7ec34e2da963468c97ed2630e1bf29cc"
  },
  "language_info": {
   "codemirror_mode": {
    "name": "ipython",
    "version": 3
   },
   "file_extension": ".py",
   "mimetype": "text/x-python",
   "name": "python",
   "nbconvert_exporter": "python",
   "pygments_lexer": "ipython3",
   "version": "3.6.6"
  }
 },
 "nbformat": 4,
 "nbformat_minor": 4
}
