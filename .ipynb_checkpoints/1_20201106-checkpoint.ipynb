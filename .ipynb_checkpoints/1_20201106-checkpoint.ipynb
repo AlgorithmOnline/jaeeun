{
 "cells": [
  {
   "cell_type": "code",
   "execution_count": null,
   "metadata": {},
   "outputs": [],
   "source": [
    "# 죠르디의 크레인 인형뽑기 깃\n",
    "def solution(board, moves):\n",
    "    len_boards = len(board)\n",
    "    column_maps = {}\n",
    "    for i in range(len_boards):\n",
    "        column_maps[i+1]=[]\n",
    "    for row in range(len_boards-1, -1, -1):\n",
    "        for col in range(len_boards):\n",
    "            if board[row][col]!=0:\n",
    "                column_maps[col+1].append(board[row][col])\n",
    "   # print(column_maps)\n",
    "    stack=[]\n",
    "    answer = 0\n",
    "    for move in moves:\n",
    "        if  len(column_maps[move])>0:\n",
    "            stack.append(column_maps[move].pop())\n",
    "            if len(stack) >1:\n",
    "                if stack[-1] ==  stack[-2]:\n",
    "                    answer+=2\n",
    "                    stack.pop()\n",
    "                    stack.pop()\n",
    "    \n",
    "    return answer"
   ]
  }
 ],
 "metadata": {
  "kernelspec": {
   "display_name": "Python 3",
   "language": "python",
   "name": "python3"
  },
  "language_info": {
   "codemirror_mode": {
    "name": "ipython",
    "version": 3
   },
   "file_extension": ".py",
   "mimetype": "text/x-python",
   "name": "python",
   "nbconvert_exporter": "python",
   "pygments_lexer": "ipython3",
   "version": "3.8.3"
  }
 },
 "nbformat": 4,
 "nbformat_minor": 4
}
