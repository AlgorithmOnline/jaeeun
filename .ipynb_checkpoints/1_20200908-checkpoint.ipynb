{
 "cells": [
  {
   "cell_type": "code",
   "execution_count": null,
   "metadata": {},
   "outputs": [
    {
     "name": "stdout",
     "output_type": "stream",
     "text": [
      "7 1 2 3 4 5 6 7\n",
      "1 2 3 4 5 6\n",
      "1 2 3 4 5 7\n",
      "1 2 3 4 6 7\n",
      "1 2 3 5 6 7\n",
      "1 2 4 5 6 7\n",
      "1 3 4 5 6 7\n",
      "2 3 4 5 6 7\n",
      "\n"
     ]
    }
   ],
   "source": [
    "import itertools \n",
    "\n",
    "while 1:\n",
    "    k_s=list( input().split(\" \"))\n",
    "    if k_s[0] =='0':\n",
    "        break\n",
    "    else:\n",
    "        k= k_s[0]\n",
    "        S=k_s[1:][:]\n",
    "        \n",
    "        ans = list(map(' '.join, itertools.combinations(S,6)))\n",
    "        print('\\n'.join(ans))\n",
    "        print()   "
   ]
  }
 ],
 "metadata": {
  "kernelspec": {
   "display_name": "Python 3.6.6 64-bit",
   "language": "python",
   "name": "python36664bit7ec34e2da963468c97ed2630e1bf29cc"
  },
  "language_info": {
   "codemirror_mode": {
    "name": "ipython",
    "version": 3
   },
   "file_extension": ".py",
   "mimetype": "text/x-python",
   "name": "python",
   "nbconvert_exporter": "python",
   "pygments_lexer": "ipython3",
   "version": "3.6.6"
  }
 },
 "nbformat": 4,
 "nbformat_minor": 4
}
