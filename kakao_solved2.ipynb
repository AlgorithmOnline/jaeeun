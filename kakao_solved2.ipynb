{
 "cells": [
  {
   "cell_type": "code",
   "execution_count": null,
   "metadata": {},
   "outputs": [],
   "source": [
    "# 카카오 [1차] 프렌즈4블록\n",
    "\n",
    "# 1. 보드를 테이블로\n",
    "def board2table(m, n, board):\n",
    "    table =[]\n",
    "    for i in range(n):\n",
    "        tmp=''\n",
    "        for k in range(m):\n",
    "            tmp+=board[k][i]\n",
    "        table.append(tmp)\n",
    "    return table\n",
    "\n",
    "\n",
    "# 2. 재귀적으로 지워질 블록을 탐지해 지워주는 함수\n",
    "\n",
    "# 큐야(항상 모든 문제에서 큔지, 스택인지 항상 고민)\n",
    "def crash(m,n,board):\n",
    "    # 탐지\n",
    "    pop_list =[]\n",
    "    for k in range(n-1):\n",
    "        for i in range(m-1):\n",
    "            if board[k][i]!='@':\n",
    "                tmp=[ board[k][i] ,board[k][i+1] , board[k+1][i] ,board[k+1][i+1] ]\n",
    "                tmp_set = set(tmp)\n",
    "                if len(tmp_set ) ==1:\n",
    "                        pop_list_tmp=[[k,i],[k,i+1],[k+1,i],[k+1,i+1]]\n",
    "                        for tt in pop_list_tmp:\n",
    "                            if tt not in pop_list:\n",
    "                                pop_list.append(tt) ## 중복 제거\n",
    "\n",
    "    # 제거  \n",
    "    if len(pop_list) ==0:\n",
    "                    return board\n",
    "    pop_list.sort()\n",
    "\n",
    "    for a  in pop_list:\n",
    "        #ttt=list(board[a[0]])\n",
    "        #ttt.pop(a[1])\n",
    "        aaa='@'+board[a[0]][:a[1]]+board[a[0]][a[1]+1:]\n",
    "        #ttt.append('@')\n",
    "        \n",
    "        board[a[0]]=aaa\n",
    "    return crash(m,n,board)\n",
    "    \n",
    "    \n",
    "def solution(m, n, board):\n",
    "    answer=0\n",
    "    table = board2table(m, n, board)\n",
    "    answer_table= crash(m, n, table)\n",
    "    for a in answer_table:\n",
    "        for b in a:\n",
    "            if b =='@':\n",
    "                answer+=1\n",
    "    return answer"
   ]
  }
 ],
 "metadata": {
  "kernelspec": {
   "display_name": "Python 3.6.6 64-bit",
   "language": "python",
   "name": "python36664bit7ec34e2da963468c97ed2630e1bf29cc"
  },
  "language_info": {
   "codemirror_mode": {
    "name": "ipython",
    "version": 3
   },
   "file_extension": ".py",
   "mimetype": "text/x-python",
   "name": "python",
   "nbconvert_exporter": "python",
   "pygments_lexer": "ipython3",
   "version": "3.6.6"
  }
 },
 "nbformat": 4,
 "nbformat_minor": 4
}
