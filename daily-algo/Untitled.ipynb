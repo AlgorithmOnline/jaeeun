{
 "cells": [
  {
   "cell_type": "code",
   "execution_count": 1,
   "metadata": {},
   "outputs": [],
   "source": []
  },
  {
   "cell_type": "code",
   "execution_count": 22,
   "metadata": {},
   "outputs": [],
   "source": [
    "# 중복을 포함한 조합 파이썬\n",
    "import itertools\n",
    "def remove_double(a):\n",
    "    return ''.join(a)\n",
    "numbers =[1,2,3,4,5,6]\n",
    "computers=[2,1,1,1]\n",
    "real_computers=['+','-','*','/']\n",
    "#compute=list(zip(computers, real_computers))\n",
    "compute=[]\n",
    "for i in range(len(real_computers)):\n",
    "    if computers[i]==0:\n",
    "        pass\n",
    "    else:\n",
    "        compute.extend(list(real_computers[i]*computers[i]))\n",
    "permutations = list(set(map(remove_double,itertools.permutations(compute)))       ) "
   ]
  },
  {
   "cell_type": "code",
   "execution_count": 24,
   "metadata": {},
   "outputs": [
    {
     "data": {
      "text/plain": [
       "['+/*+-',\n",
       " '-/*++',\n",
       " '-+/+*',\n",
       " '++/*-',\n",
       " '-++*/',\n",
       " '*+/+-',\n",
       " '/+*+-',\n",
       " '++-*/',\n",
       " '++/-*',\n",
       " '+*+-/',\n",
       " '+-/+*',\n",
       " '+*-+/',\n",
       " '/*-++',\n",
       " '*/+-+',\n",
       " '/*++-',\n",
       " '+/*-+',\n",
       " '/++*-',\n",
       " '/+-*+',\n",
       " '/-+*+',\n",
       " '*/-++',\n",
       " '*-+/+',\n",
       " '*++/-',\n",
       " '/+-+*',\n",
       " '-/++*',\n",
       " '/-*++',\n",
       " '+-*+/',\n",
       " '-*+/+',\n",
       " '+/+-*',\n",
       " '-+*/+',\n",
       " '+/+*-',\n",
       " '-+/*+',\n",
       " '*+-+/',\n",
       " '*-/++',\n",
       " '-++/*',\n",
       " '+/-*+',\n",
       " '+*+/-',\n",
       " '++-/*',\n",
       " '+-+/*',\n",
       " '+*/+-',\n",
       " '-+*+/',\n",
       " '*++-/',\n",
       " '/*+-+',\n",
       " '+-/*+',\n",
       " '-/+*+',\n",
       " '+*-/+',\n",
       " '*-++/',\n",
       " '*+-/+',\n",
       " '/++-*',\n",
       " '/-++*',\n",
       " '++*-/',\n",
       " '-*++/',\n",
       " '/+*-+',\n",
       " '*/++-',\n",
       " '-*/++',\n",
       " '+-+*/',\n",
       " '*+/-+',\n",
       " '+-*/+',\n",
       " '+/-+*',\n",
       " '++*/-',\n",
       " '+*/-+']"
      ]
     },
     "execution_count": 24,
     "metadata": {},
     "output_type": "execute_result"
    }
   ],
   "source": [
    "permutations"
   ]
  },
  {
   "cell_type": "code",
   "execution_count": 26,
   "metadata": {},
   "outputs": [],
   "source": [
    "a=list('+/*+-')"
   ]
  },
  {
   "cell_type": "code",
   "execution_count": 27,
   "metadata": {},
   "outputs": [],
   "source": [
    "numbers =[1,2,3,4,5,6]"
   ]
  },
  {
   "cell_type": "code",
   "execution_count": 37,
   "metadata": {},
   "outputs": [
    {
     "data": {
      "text/plain": [
       "[['+', 1], ['/', 2], ['*', 3], ['+', 4], ['-', 5]]"
      ]
     },
     "execution_count": 37,
     "metadata": {},
     "output_type": "execute_result"
    }
   ],
   "source": [
    "def list_to(a):\n",
    "    return list(a)\n",
    "list(map(list_to,list(zip(a, numbers))))"
   ]
  },
  {
   "cell_type": "code",
   "execution_count": null,
   "metadata": {},
   "outputs": [],
   "source": []
  }
 ],
 "metadata": {
  "kernelspec": {
   "display_name": "Python 3",
   "language": "python",
   "name": "python3"
  },
  "language_info": {
   "codemirror_mode": {
    "name": "ipython",
    "version": 3
   },
   "file_extension": ".py",
   "mimetype": "text/x-python",
   "name": "python",
   "nbconvert_exporter": "python",
   "pygments_lexer": "ipython3",
   "version": "3.8.3"
  }
 },
 "nbformat": 4,
 "nbformat_minor": 4
}
