{
 "cells": [
  {
   "cell_type": "code",
   "execution_count": 102,
   "metadata": {},
   "outputs": [],
   "source": [
    "\n",
    "import itertools\n",
    "def solution(a):\n",
    "    answer = 0\n",
    "    needles = len(a)-1 # 바늘 룰렛\n",
    "    super_pop=set() # 전체 pop list\n",
    "    com_list = list(itertools.combinations(a,2)) # 조합\n",
    "    for com in range(len(com_list)): # 첫번째 죽을 놈 구하기\n",
    "        com_list2 = com_list[:]\n",
    "        pop_list=[]\n",
    "        if \n",
    "        \n",
    "    \n",
    "    \n",
    "    \n",
    "    \n",
    "    \n",
    "    \n",
    "    \n",
    "    \n",
    "    \n",
    " "
   ]
  },
  {
   "cell_type": "code",
   "execution_count": 103,
   "metadata": {},
   "outputs": [
    {
     "name": "stdout",
     "output_type": "stream",
     "text": [
      "[(9, -1), (9, -5), (-1, -5)]\n",
      "needle 0\n",
      "f 0\n",
      "popop [-5, -1]\n",
      "잭팟pop_list [-5]\n",
      "f 1\n",
      "popop [-1, 9]\n",
      "pop_list [-5, 9]\n",
      "needle 1\n",
      "f 0\n",
      "popop [-5, -1]\n",
      "pop_list [-1]\n",
      "f 1\n",
      "popop [-5, 9]\n",
      "잭팟pop_list [-1, -5]\n",
      "needle 2\n",
      "f 0\n",
      "popop [-5, -1]\n",
      "pop_list [-1]\n",
      "f 1\n",
      "popop [-5, 9]\n",
      "pop_list [-1, 9]\n",
      "{'[-1, 9]', '[-5, 9]', '[-5, -1]'}\n"
     ]
    },
    {
     "data": {
      "text/plain": [
       "3"
      ]
     },
     "execution_count": 103,
     "metadata": {},
     "output_type": "execute_result"
    }
   ],
   "source": [
    "solution([9,-1,-5])"
   ]
  },
  {
   "cell_type": "code",
   "execution_count": 104,
   "metadata": {},
   "outputs": [
    {
     "name": "stdout",
     "output_type": "stream",
     "text": [
      "[(-16, 27), (-16, 65), (-16, -2), (-16, 58), (-16, -92), (-16, -71), (-16, -68), (-16, -61), (-16, -33), (27, 65), (27, -2), (27, 58), (27, -92), (27, -71), (27, -68), (27, -61), (27, -33), (65, -2), (65, 58), (65, -92), (65, -71), (65, -68), (65, -61), (65, -33), (-2, 58), (-2, -92), (-2, -71), (-2, -68), (-2, -61), (-2, -33), (58, -92), (58, -71), (58, -68), (58, -61), (58, -33), (-92, -71), (-92, -68), (-92, -61), (-92, -33), (-71, -68), (-71, -61), (-71, -33), (-68, -61), (-68, -33), (-61, -33)]\n",
      "needle 0\n",
      "f 0\n",
      "popop [-61, -33]\n",
      "잭팟pop_list [-61]\n",
      "f 1\n",
      "popop [-68, -33]\n",
      "pop_list [-61, -33]\n",
      "f 2\n",
      "popop [-71, -68]\n",
      "pop_list [-61, -33, -68]\n",
      "f 3\n",
      "popop [-92, -71]\n",
      "pop_list [-61, -33, -68, -71]\n",
      "f 4\n",
      "popop [-92, 58]\n",
      "pop_list [-61, -33, -68, -71, 58]\n",
      "f 5\n",
      "popop [-92, -2]\n",
      "pop_list [-61, -33, -68, -71, 58, -2]\n",
      "f 6\n",
      "popop [-92, 65]\n",
      "pop_list [-61, -33, -68, -71, 58, -2, 65]\n",
      "f 7\n",
      "popop [-92, 27]\n",
      "pop_list [-61, -33, -68, -71, 58, -2, 65, 27]\n",
      "f 8\n",
      "popop [-92, -16]\n",
      "pop_list [-61, -33, -68, -71, 58, -2, 65, 27, -16]\n",
      "needle 1\n",
      "f 0\n",
      "popop [-61, -33]\n",
      "pop_list [-33]\n",
      "f 1\n",
      "popop [-68, -61]\n",
      "잭팟pop_list [-33, -68]\n",
      "f 2\n",
      "popop [-71, -61]\n",
      "pop_list [-33, -68, -61]\n",
      "f 3\n",
      "popop [-92, -71]\n",
      "pop_list [-33, -68, -61, -71]\n",
      "f 4\n",
      "popop [-92, 58]\n",
      "pop_list [-33, -68, -61, -71, 58]\n",
      "f 5\n",
      "popop [-92, -2]\n",
      "pop_list [-33, -68, -61, -71, 58, -2]\n",
      "f 6\n",
      "popop [-92, 65]\n",
      "pop_list [-33, -68, -61, -71, 58, -2, 65]\n",
      "f 7\n",
      "popop [-92, 27]\n",
      "pop_list [-33, -68, -61, -71, 58, -2, 65, 27]\n",
      "f 8\n",
      "popop [-92, -16]\n",
      "pop_list [-33, -68, -61, -71, 58, -2, 65, 27, -16]\n",
      "needle 2\n",
      "f 0\n",
      "popop [-61, -33]\n",
      "pop_list [-33]\n",
      "f 1\n",
      "popop [-68, -61]\n",
      "pop_list [-33, -61]\n",
      "f 2\n",
      "popop [-71, -68]\n",
      "잭팟pop_list [-33, -61, -71]\n",
      "f 3\n",
      "popop [-92, -68]\n",
      "pop_list [-33, -61, -71, -68]\n",
      "f 4\n",
      "popop [-92, 58]\n",
      "pop_list [-33, -61, -71, -68, 58]\n",
      "f 5\n",
      "popop [-92, -2]\n",
      "pop_list [-33, -61, -71, -68, 58, -2]\n",
      "f 6\n",
      "popop [-92, 65]\n",
      "pop_list [-33, -61, -71, -68, 58, -2, 65]\n",
      "f 7\n",
      "popop [-92, 27]\n",
      "pop_list [-33, -61, -71, -68, 58, -2, 65, 27]\n",
      "f 8\n",
      "popop [-92, -16]\n",
      "pop_list [-33, -61, -71, -68, 58, -2, 65, 27, -16]\n",
      "needle 3\n",
      "f 0\n",
      "popop [-61, -33]\n",
      "pop_list [-33]\n",
      "f 1\n",
      "popop [-68, -61]\n",
      "pop_list [-33, -61]\n",
      "f 2\n",
      "popop [-71, -68]\n",
      "pop_list [-33, -61, -68]\n",
      "f 3\n",
      "popop [-92, -71]\n",
      "잭팟pop_list [-33, -61, -68, -92]\n",
      "f 4\n",
      "popop [-71, 58]\n",
      "pop_list [-33, -61, -68, -92, 58]\n",
      "f 5\n",
      "popop [-71, -2]\n",
      "pop_list [-33, -61, -68, -92, 58, -2]\n",
      "f 6\n",
      "popop [-71, 65]\n",
      "pop_list [-33, -61, -68, -92, 58, -2, 65]\n",
      "f 7\n",
      "popop [-71, 27]\n",
      "pop_list [-33, -61, -68, -92, 58, -2, 65, 27]\n",
      "f 8\n",
      "popop [-71, -16]\n",
      "pop_list [-33, -61, -68, -92, 58, -2, 65, 27, -16]\n",
      "needle 4\n",
      "f 0\n",
      "popop [-61, -33]\n",
      "pop_list [-33]\n",
      "f 1\n",
      "popop [-68, -61]\n",
      "pop_list [-33, -61]\n",
      "f 2\n",
      "popop [-71, -68]\n",
      "pop_list [-33, -61, -68]\n",
      "f 3\n",
      "popop [-92, -71]\n",
      "pop_list [-33, -61, -68, -71]\n",
      "f 4\n",
      "popop [-92, 58]\n",
      "잭팟pop_list [-33, -61, -68, -71, -92]\n",
      "f 5\n",
      "popop [-2, 58]\n",
      "pop_list [-33, -61, -68, -71, -92, 58]\n",
      "f 6\n",
      "popop [-2, 65]\n",
      "pop_list [-33, -61, -68, -71, -92, 58, 65]\n",
      "f 7\n",
      "popop [-2, 27]\n",
      "pop_list [-33, -61, -68, -71, -92, 58, 65, 27]\n",
      "f 8\n",
      "popop [-16, -2]\n",
      "pop_list [-33, -61, -68, -71, -92, 58, 65, 27, -2]\n",
      "needle 5\n",
      "f 0\n",
      "popop [-61, -33]\n",
      "pop_list [-33]\n",
      "f 1\n",
      "popop [-68, -61]\n",
      "pop_list [-33, -61]\n",
      "f 2\n",
      "popop [-71, -68]\n",
      "pop_list [-33, -61, -68]\n",
      "f 3\n",
      "popop [-92, -71]\n",
      "pop_list [-33, -61, -68, -71]\n",
      "f 4\n",
      "popop [-92, 58]\n",
      "pop_list [-33, -61, -68, -71, 58]\n",
      "f 5\n",
      "popop [-92, -2]\n",
      "잭팟pop_list [-33, -61, -68, -71, 58, -92]\n",
      "f 6\n",
      "popop [-2, 65]\n",
      "pop_list [-33, -61, -68, -71, 58, -92, 65]\n",
      "f 7\n",
      "popop [-2, 27]\n",
      "pop_list [-33, -61, -68, -71, 58, -92, 65, 27]\n",
      "f 8\n",
      "popop [-16, -2]\n",
      "pop_list [-33, -61, -68, -71, 58, -92, 65, 27, -2]\n",
      "needle 6\n",
      "f 0\n",
      "popop [-61, -33]\n",
      "pop_list [-33]\n",
      "f 1\n",
      "popop [-68, -61]\n",
      "pop_list [-33, -61]\n",
      "f 2\n",
      "popop [-71, -68]\n",
      "pop_list [-33, -61, -68]\n",
      "f 3\n",
      "popop [-92, -71]\n",
      "pop_list [-33, -61, -68, -71]\n",
      "f 4\n",
      "popop [-92, 58]\n",
      "pop_list [-33, -61, -68, -71, 58]\n",
      "f 5\n",
      "popop [-92, -2]\n",
      "pop_list [-33, -61, -68, -71, 58, -2]\n",
      "f 6\n",
      "popop [-92, 65]\n",
      "잭팟pop_list [-33, -61, -68, -71, 58, -2, -92]\n",
      "f 7\n",
      "popop [27, 65]\n",
      "pop_list [-33, -61, -68, -71, 58, -2, -92, 65]\n",
      "f 8\n",
      "popop [-16, 27]\n",
      "pop_list [-33, -61, -68, -71, 58, -2, -92, 65, 27]\n",
      "needle 7\n",
      "f 0\n",
      "popop [-61, -33]\n",
      "pop_list [-33]\n",
      "f 1\n",
      "popop [-68, -61]\n",
      "pop_list [-33, -61]\n",
      "f 2\n",
      "popop [-71, -68]\n",
      "pop_list [-33, -61, -68]\n",
      "f 3\n",
      "popop [-92, -71]\n",
      "pop_list [-33, -61, -68, -71]\n",
      "f 4\n",
      "popop [-92, 58]\n",
      "pop_list [-33, -61, -68, -71, 58]\n",
      "f 5\n",
      "popop [-92, -2]\n",
      "pop_list [-33, -61, -68, -71, 58, -2]\n",
      "f 6\n",
      "popop [-92, 65]\n",
      "pop_list [-33, -61, -68, -71, 58, -2, 65]\n",
      "f 7\n",
      "popop [-92, 27]\n",
      "잭팟pop_list [-33, -61, -68, -71, 58, -2, 65, -92]\n",
      "f 8\n",
      "popop [-16, 27]\n",
      "pop_list [-33, -61, -68, -71, 58, -2, 65, -92, 27]\n",
      "needle 8\n",
      "f 0\n",
      "popop [-61, -33]\n",
      "pop_list [-33]\n",
      "f 1\n",
      "popop [-68, -61]\n",
      "pop_list [-33, -61]\n",
      "f 2\n",
      "popop [-71, -68]\n",
      "pop_list [-33, -61, -68]\n",
      "f 3\n",
      "popop [-92, -71]\n",
      "pop_list [-33, -61, -68, -71]\n",
      "f 4\n",
      "popop [-92, 58]\n",
      "pop_list [-33, -61, -68, -71, 58]\n",
      "f 5\n",
      "popop [-92, -2]\n",
      "pop_list [-33, -61, -68, -71, 58, -2]\n",
      "f 6\n",
      "popop [-92, 65]\n",
      "pop_list [-33, -61, -68, -71, 58, -2, 65]\n",
      "f 7\n",
      "popop [-92, 27]\n",
      "pop_list [-33, -61, -68, -71, 58, -2, 65, 27]\n",
      "f 8\n",
      "popop [-92, -16]\n",
      "잭팟pop_list [-33, -61, -68, -71, 58, -2, 65, 27, -92]\n",
      "needle 9\n",
      "f 0\n",
      "popop [-61, -33]\n",
      "pop_list [-33]\n",
      "f 1\n",
      "popop [-68, -61]\n",
      "pop_list [-33, -61]\n",
      "f 2\n",
      "popop [-71, -68]\n",
      "pop_list [-33, -61, -68]\n",
      "f 3\n",
      "popop [-92, -71]\n",
      "pop_list [-33, -61, -68, -71]\n",
      "f 4\n",
      "popop [-92, 58]\n",
      "pop_list [-33, -61, -68, -71, 58]\n",
      "f 5\n",
      "popop [-92, -2]\n",
      "pop_list [-33, -61, -68, -71, 58, -2]\n",
      "f 6\n",
      "popop [-92, 65]\n",
      "pop_list [-33, -61, -68, -71, 58, -2, 65]\n",
      "f 7\n",
      "popop [-92, 27]\n",
      "pop_list [-33, -61, -68, -71, 58, -2, 65, 27]\n",
      "f 8\n",
      "popop [-92, -16]\n",
      "pop_list [-33, -61, -68, -71, 58, -2, 65, 27, -16]\n",
      "{'[-92, -68, -61, -33, -16, -2, 27, 58, 65]', '[-92, -71, -68, -61, -33, -2, 27, 58, 65]', '[-71, -68, -61, -33, -16, -2, 27, 58, 65]'}\n"
     ]
    },
    {
     "data": {
      "text/plain": [
       "3"
      ]
     },
     "execution_count": 104,
     "metadata": {},
     "output_type": "execute_result"
    }
   ],
   "source": [
    "solution([-16, 27, 65, -2, 58, -92, -71, -68, -61, -33])"
   ]
  },
  {
   "cell_type": "code",
   "execution_count": 105,
   "metadata": {},
   "outputs": [
    {
     "name": "stdout",
     "output_type": "stream",
     "text": [
      "ACAYKP\n",
      "CAPCAK\n"
     ]
    }
   ],
   "source": [
    "import collections\n",
    "a=[]\n",
    "\n",
    "for  _ in range(2):\n",
    "    a.append(input())\n",
    "a[0]  = collections.Counter(a[0])\n",
    "a[1]  = collections.Counter(a[1])\n"
   ]
  },
  {
   "cell_type": "code",
   "execution_count": 106,
   "metadata": {},
   "outputs": [
    {
     "data": {
      "text/plain": [
       "[Counter({'A': 2, 'C': 1, 'K': 1, 'P': 1, 'Y': 1}),\n",
       " Counter({'A': 2, 'C': 2, 'K': 1, 'P': 1})]"
      ]
     },
     "execution_count": 106,
     "metadata": {},
     "output_type": "execute_result"
    }
   ],
   "source": [
    "a"
   ]
  },
  {
   "cell_type": "code",
   "execution_count": 107,
   "metadata": {},
   "outputs": [
    {
     "data": {
      "text/plain": [
       "Counter({'A': 2, 'C': 1, 'K': 1, 'P': 1})"
      ]
     },
     "execution_count": 107,
     "metadata": {},
     "output_type": "execute_result"
    }
   ],
   "source": [
    "a[0]&a[1]"
   ]
  },
  {
   "cell_type": "code",
   "execution_count": 121,
   "metadata": {},
   "outputs": [],
   "source": [
    "import collections\n",
    "\n",
    "must_learn=['a','n','t','i','c']\n",
    "\n",
    "\n",
    "q=[\n",
    "    \n",
    "    'antarctica',\n",
    "'antahellotica',\n",
    "'antacartica'\n",
    "]\n",
    "K-=5\n",
    "for i in range(len(q)):\n",
    "    for m in must_learn:\n",
    "        q[i]= q[i].replace(m,\"\")\n",
    "    q[i]=collections.Counter(list(q[i]))"
   ]
  },
  {
   "cell_type": "code",
   "execution_count": 122,
   "metadata": {
    "scrolled": true
   },
   "outputs": [
    {
     "data": {
      "text/plain": [
       "[Counter({'r': 1}),\n",
       " Counter({'e': 1, 'h': 1, 'l': 2, 'o': 1}),\n",
       " Counter({'r': 1})]"
      ]
     },
     "execution_count": 122,
     "metadata": {},
     "output_type": "execute_result"
    }
   ],
   "source": [
    "q"
   ]
  },
  {
   "cell_type": "code",
   "execution_count": null,
   "metadata": {},
   "outputs": [],
   "source": [
    "q[0] "
   ]
  },
  {
   "cell_type": "code",
   "execution_count": 111,
   "metadata": {},
   "outputs": [
    {
     "data": {
      "text/plain": [
       "'arc'"
      ]
     },
     "execution_count": 111,
     "metadata": {},
     "output_type": "execute_result"
    }
   ],
   "source": [
    "q[0][3:-4]"
   ]
  },
  {
   "cell_type": "code",
   "execution_count": 112,
   "metadata": {},
   "outputs": [
    {
     "data": {
      "text/plain": [
       "'ahello'"
      ]
     },
     "execution_count": 112,
     "metadata": {},
     "output_type": "execute_result"
    }
   ],
   "source": [
    "q[1][3:-4]"
   ]
  },
  {
   "cell_type": "code",
   "execution_count": 113,
   "metadata": {},
   "outputs": [
    {
     "data": {
      "text/plain": [
       "'acar'"
      ]
     },
     "execution_count": 113,
     "metadata": {},
     "output_type": "execute_result"
    }
   ],
   "source": [
    "q[2][3:-4]"
   ]
  },
  {
   "cell_type": "code",
   "execution_count": null,
   "metadata": {},
   "outputs": [],
   "source": [
    "a,n,t,i,c"
   ]
  }
 ],
 "metadata": {
  "kernelspec": {
   "display_name": "Python 3.6.6 64-bit",
   "language": "python",
   "name": "python36664bit7ec34e2da963468c97ed2630e1bf29cc"
  },
  "language_info": {
   "codemirror_mode": {
    "name": "ipython",
    "version": 3
   },
   "file_extension": ".py",
   "mimetype": "text/x-python",
   "name": "python",
   "nbconvert_exporter": "python",
   "pygments_lexer": "ipython3",
   "version": "3.6.6"
  }
 },
 "nbformat": 4,
 "nbformat_minor": 4
}
