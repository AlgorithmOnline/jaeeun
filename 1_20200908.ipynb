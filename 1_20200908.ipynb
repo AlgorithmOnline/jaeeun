{
 "cells": [
  {
   "cell_type": "code",
   "execution_count": 110,
   "metadata": {},
   "outputs": [
    {
     "ename": "SyntaxError",
     "evalue": "invalid syntax (<ipython-input-110-9da0ad5f8f62>, line 52)",
     "output_type": "error",
     "traceback": [
      "\u001b[1;36m  File \u001b[1;32m\"<ipython-input-110-9da0ad5f8f62>\"\u001b[1;36m, line \u001b[1;32m52\u001b[0m\n\u001b[1;33m    listlist2 = listlist+=sticker[k])\u001b[0m\n\u001b[1;37m                         ^\u001b[0m\n\u001b[1;31mSyntaxError\u001b[0m\u001b[1;31m:\u001b[0m invalid syntax\n"
     ]
    }
   ],
   "source": [
    "from collections import deque\n",
    "answer=0\n",
    "anslist=[]\n",
    "def solution(sticker):\n",
    "  \n",
    "\n",
    "    # [실행] 버튼을 누르면 출력 값을 볼 수 있습니다.\n",
    "\n",
    "    bfs(deque(sticker),  0,[]) \n",
    "\n",
    "    return answer\n",
    "\n",
    "def bfs(sticker,  ans,listlist):\n",
    "    global answer \n",
    "    if len(sticker)==0:\n",
    "        return\n",
    "    elif  len(sticker)==1:\n",
    "        ans+=sticker[0]\n",
    "        listlist.append(sticker[0])\n",
    "        if answer <ans:\n",
    "            answer=ans\n",
    "            anslist.append(listlist)\n",
    "            return\n",
    "    elif len(sticker)==3 or len(sticker)==2:\n",
    "        sticker = list(sticker)\n",
    "        sticker.sort(reverse=True)\n",
    "        sticker = deque(sticker)\n",
    "        ans+=sticker[0]\n",
    "        listlist.append(sticker[0])\n",
    "        if answer <ans:\n",
    "            answer=ans\n",
    "            anslist.append(listlist)\n",
    "            return\n",
    "    elif len(sticker)==4:\n",
    "        a= sticker[0]+ sticker[2]\n",
    "        b= sticker[1]+ sticker[3]\n",
    "        if a<b:\n",
    "            ans= b\n",
    "            listlist.append( sticker[1], sticker[3])\n",
    "        else:\n",
    "            ans=a\n",
    "            listlist.append( sticker[0], sticker[2])\n",
    "        if answer <ans:\n",
    "            answer=ans\n",
    "            anslist.append(listlist)\n",
    "            return\n",
    "    else:\n",
    "        len_sticker = len(sticker)\n",
    "        for k in range(len_sticker):\n",
    "            sticker2=sticker.copy()\n",
    "            ans2=ans+sticker[k]\n",
    "            #listlist2 = listlist.append(sticker[k])\n",
    "\n",
    "            if k!=0:\n",
    "               \n",
    "                sticker2.rotate(-k)\n",
    "            sticker2.popleft()\n",
    "            sticker2.popleft()\n",
    "            sticker2.pop()\n",
    "            bfs(sticker2,  ans2,listlist[:]) \n",
    "            \n",
    "        "
   ]
  }
 ],
 "metadata": {
  "kernelspec": {
   "display_name": "Python 3.6.6 64-bit",
   "language": "python",
   "name": "python36664bit7ec34e2da963468c97ed2630e1bf29cc"
  },
  "language_info": {
   "codemirror_mode": {
    "name": "ipython",
    "version": 3
   },
   "file_extension": ".py",
   "mimetype": "text/x-python",
   "name": "python",
   "nbconvert_exporter": "python",
   "pygments_lexer": "ipython3",
   "version": "3.6.6"
  }
 },
 "nbformat": 4,
 "nbformat_minor": 4
}
