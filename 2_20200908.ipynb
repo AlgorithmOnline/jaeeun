{
 "cells": [
  {
   "cell_type": "code",
   "execution_count": null,
   "metadata": {},
   "outputs": [],
   "source": [
    "def solution(operations):\n",
    "    # 항상 소팅이 돼어 있어야한다.\n",
    "    answer = []\n",
    "    queue=[]\n",
    "    for op in operations:\n",
    "        if op[:1] =='I':\n",
    "            queue.append(int(op[2:]))\n",
    "            queue.sort()\n",
    "        elif op ==\"D 1\": # 최대 제거\n",
    "            if len(queue) ==0:\n",
    "                continue\n",
    "            else:\n",
    "                queue=queue[:-1]\n",
    "        elif op ==\"D -1\": # 최소 제거\n",
    "            if len(queue) ==0:\n",
    "                continue\n",
    "            else:\n",
    "                queue=queue[1:]\n",
    "    if len(queue) ==0:\n",
    "                return [0,0]\n",
    "    else:\n",
    "        \n",
    "        answer.append(queue[-1])\n",
    "        answer.append(queue[0])\n",
    "    return answer"
   ]
  }
 ],
 "metadata": {
  "kernelspec": {
   "display_name": "Python 3.6.6 64-bit",
   "language": "python",
   "name": "python36664bit7ec34e2da963468c97ed2630e1bf29cc"
  },
  "language_info": {
   "codemirror_mode": {
    "name": "ipython",
    "version": 3
   },
   "file_extension": ".py",
   "mimetype": "text/x-python",
   "name": "python",
   "nbconvert_exporter": "python",
   "pygments_lexer": "ipython3",
   "version": "3.6.6"
  }
 },
 "nbformat": 4,
 "nbformat_minor": 4
}
